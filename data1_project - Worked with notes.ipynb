{
 "cells": [
  {
   "cell_type": "markdown",
   "metadata": {
    "id": "3Wjq5vQ_zVKB"
   },
   "source": [
    "# Data Project Rubric:\n",
    "\n",
    "# Data Analysis with Python (Pandas & Matplotlib)\n",
    "\n",
    "## 1. Project Overview\n",
    "   \n",
    "         ● Objective: Which city has the highest number of accepted students.\n",
    "   \n",
    "         ● Data Source: Describe where the data comes from and how it might answer the question.\n",
    "              This data source comes from https://www.kaggle.com/datasets/zeeshier/student-admission-records"
   ]
  },
  {
   "cell_type": "code",
   "execution_count": null,
   "metadata": {
    "id": "s3u-RZzrzVKD"
   },
   "outputs": [],
   "source": [
    "# Get started\n",
    "import pandas as pd\n",
    "import matplotlib.pyplot as plt\n",
    "\n"
   ]
  },
  {
   "cell_type": "markdown",
   "metadata": {
    "id": "Ni067xtQzVKF"
   },
   "source": [
    "## 2. Data Collection and Loading  "
   ]
  },
  {
   "cell_type": "code",
   "execution_count": null,
   "metadata": {
    "colab": {
     "base_uri": "https://localhost:8080/",
     "height": 347
    },
    "id": "aih9bSBHzVKG",
    "outputId": "e1e22ef3-ab26-4070-b595-e043b90dcf32"
   },
   "outputs": [],
   "source": [
    "# Load Data: Use Pandas to load a dataset (CSV, Excel, or database).\n",
    "orig_student_info = pd.read_csv('student_admission_record_dirty.csv')\n",
    "print(orig_student_info)"
   ]
  },
  {
   "cell_type": "code",
   "execution_count": null,
   "metadata": {
    "id": "nOkYbrdSzVKI"
   },
   "outputs": [],
   "source": [
    "# Insert underscores. Makes it easier for me to read columns names\n",
    "orig_student_info.columns = orig_student_info.columns.str.replace(' ', '_')\n",
    "print(orig_student_info)"
   ]
  },
  {
   "cell_type": "code",
   "execution_count": null,
   "metadata": {
    "id": "TIQjW8irzVKI"
   },
   "outputs": [],
   "source": [
    "# Initial Check: Display the first few rows and basic information about the dataset, noting column names, types, and missing values.\n",
    "orig_student_info.head()"
   ]
  },
  {
   "cell_type": "code",
   "execution_count": null,
   "metadata": {
    "id": "U0nVCTsXzVKJ"
   },
   "outputs": [],
   "source": [
    "# Choose which columns or data to focus on and drop the rest.\n",
    "# I don't need name, age, or gender to answer my objective\n",
    "new_student_info = orig_student_info.drop(['Name', 'Age', 'Gender'], axis='columns')\n",
    "new_student_info"
   ]
  },
  {
   "cell_type": "markdown",
   "metadata": {
    "id": "iOeEqIdEzVKJ"
   },
   "source": [
    "## 3. Data Cleaning and Preparation  "
   ]
  },
  {
   "cell_type": "code",
   "execution_count": null,
   "metadata": {
    "id": "6MdC-7NTzVKK"
   },
   "outputs": [],
   "source": [
    "# handle missing values:\n",
    "# how many are there?\n",
    "# count NaNs in each column\n",
    "column_nan_count = new_student_info.isnull().sum()\n",
    "print(\"NaN count per column:\")\n",
    "print(column_nan_count)"
   ]
  },
  {
   "cell_type": "code",
   "execution_count": null,
   "metadata": {
    "id": "WLK7jnyPzVKL"
   },
   "outputs": [],
   "source": [
    "# for the 'Admission Test Scores' and 'High School Percentage', these columns are just 'FYI' and they don't really affect the calculations I'm doing.\n",
    "# So I'll replace the 'NaN' with the column mean (average)\n",
    "new_student_info['Admission_Test_Score'] = new_student_info['Admission_Test_Score'].fillna(new_student_info['Admission_Test_Score'].mean())\n",
    "new_student_info['High_School_Percentage'] = new_student_info['High_School_Percentage'].fillna(new_student_info['High_School_Percentage'].mean())\n",
    "pd.options.display.float_format = '{:.2f}'.format\n",
    "print('\\nResult :\\n', new_student_info)\n",
    "# test_nan_count = new_student_info.isnull().sum()\n",
    "# print(\"NaN count per column:\")\n",
    "# print(test_nan_count)"
   ]
  },
  {
   "cell_type": "code",
   "execution_count": null,
   "metadata": {
    "id": "v-4CnupAzVKM"
   },
   "outputs": [],
   "source": [
    "# fill missing \"City' with 'Unknown'\n",
    "# remove any record that has a missing 'Admission Status' since there's not way to guess at those.\n",
    "# this leaves 147 records\n",
    "new_student_info['City'] = new_student_info['City'].fillna('Unknown')\n",
    "new_student_info = new_student_info.dropna()\n",
    "\n",
    "# set display options to show all columns and rows\n",
    "# pd.set_option('display.max_columns', None)\n",
    "# pd.set_option('display.max_rows', None)\n",
    "\n",
    "# print the dataframe\n",
    "print(new_student_info)\n",
    "\n",
    "# test_nan_count = new_student_info.isnull().sum()\n",
    "# print(\"NaN count per column:\")\n",
    "# print(test_nan_count)\n"
   ]
  },
  {
   "cell_type": "code",
   "execution_count": null,
   "metadata": {
    "id": "jEu6gwLfzVKN"
   },
   "outputs": [],
   "source": [
    "# Feature Engineering: The number of 'Accepted' vs 'Rejected' per city\n",
    "\n",
    "# Group by 'City' and 'Admission_Status' and calculate the total count for each group\n",
    "city_admissions = new_student_info.groupby(['City', 'Admission_Status'])['Admission_Status'].count().reset_index(name='Count')\n",
    "\n",
    "# Create a pivot table to show accepted and rejected totals by city\n",
    "city_admissions_pivot = city_admissions.pivot(index='City', columns='Admission_Status', values='Count').fillna(0)\n",
    "\n",
    "# Rename the columns for better readability \n",
    "city_admissions_pivot = city_admissions_pivot.rename(columns={'Accepted': 'Accepted', 'Rejected': 'Rejected'})\n",
    "\n",
    "# Display the pivot table\n",
    "# print(city_admissions_pivot)\n",
    "\n",
    "# Convert the pivot table to a string\n",
    "pivot_table_string = city_admissions_pivot.to_string()\n",
    "\n",
    "# Find the index of the newline character after the header\n",
    "header_end_index = pivot_table_string.find('\\n')\n",
    "\n",
    "# Insert a newline character after the header\n",
    "modified_pivot_table_string = pivot_table_string[:header_end_index + 1] + '\\n' + pivot_table_string[header_end_index + 1:]\n",
    "\n",
    "# Print the modified string\n",
    "print(modified_pivot_table_string)\n",
    "\n",
    "\n",
    "\n"
   ]
  },
  {
   "cell_type": "markdown",
   "metadata": {},
   "source": [
    "## 4. Exploratory Data Analysis (EDA)"
   ]
  },
  {
   "cell_type": "code",
   "execution_count": null,
   "metadata": {},
   "outputs": [],
   "source": [
    "# Descriptive Statistics:\n",
    "new_student_info.describe()"
   ]
  },
  {
   "cell_type": "code",
   "execution_count": null,
   "metadata": {},
   "outputs": [],
   "source": [
    "# Data Visualizations:\n",
    "# Assuming 'city_admissions_pivot' is your DataFrame\n",
    "city_admissions_pivot.plot(kind='bar', figsize=(10, 6))\n",
    "\n",
    "plt.title('Student Admissions by City')\n",
    "plt.xlabel('City')\n",
    "plt.ylabel('Number of Students')\n",
    "plt.xticks(rotation=45, ha='right')  # Rotate x-axis labels for better readability\n",
    "plt.legend(title='Admission Status')\n",
    "\n",
    "plt.tight_layout()  # Adjust layout to prevent labels from overlapping\n",
    "plt.show()"
   ]
  }
 ],
 "metadata": {
  "colab": {
   "provenance": []
  },
  "kernelspec": {
   "display_name": "Python 3",
   "language": "python",
   "name": "python3"
  },
  "language_info": {
   "codemirror_mode": {
    "name": "ipython",
    "version": 3
   },
   "file_extension": ".py",
   "mimetype": "text/x-python",
   "name": "python",
   "nbconvert_exporter": "python",
   "pygments_lexer": "ipython3",
   "version": "3.11.2"
  }
 },
 "nbformat": 4,
 "nbformat_minor": 0
}
