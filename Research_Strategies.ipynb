{
 "cells": [
  {
   "cell_type": "markdown",
   "id": "e5b62b43",
   "metadata": {},
   "source": [
    "<h1 align='center'>How to Conduct Programming Research</h1>"
   ]
  },
  {
   "cell_type": "markdown",
   "id": "7166e64c",
   "metadata": {},
   "source": [
    "<h3>Overview</h3>"
   ]
  },
  {
   "cell_type": "markdown",
   "id": "d2e13de1",
   "metadata": {},
   "source": [
    "**One of the most intimidating parts of being new to programming is learning how to dig through technical documentation.**\n",
    "\n",
    "**This is central to being able to become self-sufficient and accelerate your progress with any programming venture, not just getting comfortable with Python.**\n",
    "\n",
    "**You likely will have to go through this on a very regular basis over the course of your study of programming, not just when trying to pick up a new language. It's common to have to do this kind of research on a project by project basis.**\n",
    "\n",
    "**I was once told that all school can really provide for a student is instruction on how to teach oneself whatever they want to learn. This rings especially true in the technical space. This space moves very quickly, as I'm sure some of you know, so research skills are essential for keeping skills up to date and picking up new technologies.**\n",
    "\n",
    "**Luckily there is typically in depth documentation on most things in the space, however this documentation tends not to be very beginner friendly. It is the aim of this notebook to offer general strategies and advice to lessen the load of getting comfortable with such documentation.**"
   ]
  },
  {
   "cell_type": "markdown",
   "id": "b9c330b5",
   "metadata": {},
   "source": [
    "<h3>What to Google? How to Find Documentation</h3>"
   ]
  },
  {
   "cell_type": "markdown",
   "id": "6a0f2304",
   "metadata": {},
   "source": [
    "**A lot of the research you will have to conduct at Code:You and beyond will begin with a search engine. It can be difficult as a beginner knowing what to ask, and interpreting search results.**\n",
    "    \n",
    "**As a general rule I tend not to frame searches in the form of a question. This is less topical if you aim to utilize AI, which I would discourage at this phase. I am aware however that this is very popular and something that can be very comforting to lean into.**\n",
    "\n",
    "**So why do I discourage AI? AI does not understand your level as a learner, it may assume you have a grasp of concepts that you do not, or may offer code samples without context. This can actually make it more difficult to learn fundamentals or make it easy to skip over conceptual topics that you may find that you had wished you had picked up later.**\n",
    "\n",
    "**So what do you type into a search engine? It's important to think in keywords. I almost always start any search with the word 'Python.' It can be common when researching a technical concept to receive results relevant to other languages, C# for example, if you don't explicitly state that you are interested in doing something with Python.**\n",
    "\n",
    "**Follow this with a straight forward description of what it is that you'd like to do. I'll start with an example of something that was requested of me earlier in the session. Let's research segmenting a string based on a trigger character.**"
   ]
  },
  {
   "cell_type": "markdown",
   "id": "77d11267",
   "metadata": {},
   "source": [
    "<img src='Python_String_Split.jpg' width='750' height='750'>"
   ]
  },
  {
   "cell_type": "markdown",
   "id": "a6ead6d8",
   "metadata": {},
   "source": [
    "**Ok, so we've queried a search engine and have some results. A few thoughts. Firstly, many browsers have incorporated AI as a first default result. It can be useful to look through that, as it likely can point out keywords worth looking further into. AI can be very useful presuming you understand how it got to it's suggestions.**\n",
    "\n",
    "**Moving down to further results we notice a format in the next two results. Both start with Python (why we used it as a beginning for our query.) Then they mention an object (String) and a method split().**\n",
    "\n",
    "**This can be leveraged for our queries. Language, object, method is a very common pattern for finding out how to do new things in programming. A large portion of what we do in programming is operate on objects by using methods. So using this format is a best case. Oftentimes we won't know the method, that is what we are looking for (whether we realize it or not) but if we know the language and the object that's a great start.**\n",
    "\n",
    "**Let's dive a little bit deeper into our GeeksforGeeks result.**"
   ]
  },
  {
   "cell_type": "markdown",
   "id": "b1e60810",
   "metadata": {},
   "source": [
    "<img src='Python_String_Split_G4G_1.jpg' height='750' width='750'>"
   ]
  },
  {
   "cell_type": "markdown",
   "id": "cfc06b8f",
   "metadata": {},
   "source": [
    "**This is a good place to begin. I've highlighed this screenshot to point out a few common things we will see in documentation. A method will typically perform some kind of operation on an object, customized by one or more arguments, to return a different object.**\n",
    "\n",
    "**In this case we are operating on a string, using a separator as an argument, to return a list containing strings broken out from the original string.**"
   ]
  },
  {
   "cell_type": "markdown",
   "id": "1d6fb37f",
   "metadata": {},
   "source": [
    "<img src='Python_String_Split_2.jpg' height='750' width='750'>"
   ]
  },
  {
   "cell_type": "markdown",
   "id": "1fc7e8fe",
   "metadata": {},
   "source": [
    "https://www.geeksforgeeks.org/python-string-split/"
   ]
  },
  {
   "cell_type": "markdown",
   "id": "926fef9d",
   "metadata": {},
   "source": [
    "**This is a continuation of the previous screenshot. It's common when researching a method like string.split() to encounter a list of arguments or 'parameters' which the method can take. Sometimes an argument will be required to be provided, while other times there is a default that is passed if an argument is not passed. In the instance above where we provided ',' as the separator to the method, we did not explicitly pass a maxsplit. The documentation will tell us the default is -1 meaning the method will continue to split until the separator is no longer found. If we only wanted three splits we could have written string.split(',', 3). You will also often see arguments referred to by name for example string.split(separator=',', maxsplit=3) but in this case that is not required.**\n",
    "\n",
    "**You should always look for expected return or 'output' as I referred to it in the last screenshot. This documentation tells us everything we need to know.**\n",
    "\n",
    "**There is not (as far as I know) official base Python documentation, but this is not true of pandas which we will be diving into for module two. The official home page for the pandas documentation is** https://pandas.pydata.org/docs/"
   ]
  },
  {
   "cell_type": "markdown",
   "id": "ac071e48",
   "metadata": {},
   "source": [
    "<h3>So What if We Know the Object Type But Can't Identify a Method?</h3>"
   ]
  },
  {
   "cell_type": "markdown",
   "id": "b37e9b06",
   "metadata": {},
   "source": [
    "**I would still advise you go to a search engine starting with the language you are interested in, followed by the object that you are interested in operating on, followed by a short description of what you'd like to do.**\n",
    "\n",
    "**Let's dive a little bit deeper into pandas specifically as it's a library that we know we are going to be working with. To search for pandas doc I'd suggest querying in the form language, library, object, description of desired operation.**\n",
    "\n",
    "**So 'Python pandas DataFrame drop nulls within a column in a DataFrame' would be an example of a solid search, let's try it.**"
   ]
  },
  {
   "cell_type": "markdown",
   "id": "d49dbb25",
   "metadata": {},
   "source": [
    "<img src='Pandas_Drop_Na_Doc.jpg' height=750 width=750>"
   ]
  },
  {
   "cell_type": "markdown",
   "id": "47ec817e",
   "metadata": {},
   "source": [
    "**One of the first search results is the official pandas documentation for a method called .dropna(). This seems promising, so let's break this down.**\n",
    "\n",
    "**The first thing we see on this page is an example of how to call the method. I'll note in place of the word 'DataFrame' we are going to substitute the variable name that we stored the DataFrame into. So if we had created the DataFrame storing it as 'df' as is common we would call df.dropna().**\n",
    "\n",
    "**The next thing we see are all the possible arguments, axis, how, thresh, subset, inplace and ignore_index. Then we see a brief description of what the method does in this instance 'remove missing values.' This is what we want to do, but we want to tone it to only drop rows with null values in a particular column.**\n",
    "\n",
    "**On to the arguments, with axis we can specify whether to drop rows of columns. In our case we want to drop rows so our axis will be 0, the default. We will not need to specify this argument.**\n",
    "\n",
    "**The how argument indicates that if we specify any aka how='any' then it will drop any rows with a null value and keep the rows with valid values. If we were to pass all then it would only remove rows where all values are null as opposed to rows with one or more nulls but fewer than the total number of columns.**\n",
    "\n",
    "**The thresh or threshold argument sets a threshold for number of nulls within a row in our example for a row to be removed if we select 'any' with the how argument. Let's say we only want to remove rows with 2 or more nulls within the row, but we will accept rows that only contain 1 null. We could pass thresh=2 to the method to achieve this behavior.**\n",
    "\n",
    "**The subset argument achieves one of our intended goals. Since we are dropping along axis=0 aka rows we can use subset to specify columns to search for nulls in. If our columns are called a, b, c, and d and we want to drop rows which are null in columns b or c we could use subset=['b', 'c'] to instruct the method to ignore nulls in columns a and d.**\n",
    "\n",
    "**The inplace argument is one you'll run into a lot. It determines whether to create a new object or modify the one being operated on in place. The default is for inplace to be equal to false creating a new object. For example we could write 'new_df = df.dropna()' and the object with the nulls removed would be stored in new_df with df being the unchanged object. If we were to call 'df.dropna(inplace=True)' then the object stored in df before the operation will be dropped and replaced with an object with the nulls removed.**\n",
    "\n",
    "**The ignore_index argument determines whether to retain the original index, or replace it with a numeric one. Let's consider a dataset covering national data by state with state names as the indexes. If we use dropna() passing ignore_index=False it retains the state names as the index in the new object, while if we pass ignore_index=False then the index would become the numbers 0-49.**"
   ]
  },
  {
   "cell_type": "markdown",
   "id": "18d395b1",
   "metadata": {},
   "source": [
    "**So a holistic call to this method using all the arguments might look like:**\n",
    "    \n",
    "df.dropna(axis=0, how='any', thresh=3, subset=['b', 'c'], inplace=True, ignore_index=False)"
   ]
  },
  {
   "cell_type": "markdown",
   "id": "445f5ec7",
   "metadata": {},
   "source": [
    "https://pandas.pydata.org/docs/reference/api/pandas.DataFrame.dropna.html"
   ]
  },
  {
   "cell_type": "markdown",
   "id": "06dfe0b7",
   "metadata": {},
   "source": [
    "<h3>Find All Methods for an Object</h3>"
   ]
  },
  {
   "cell_type": "markdown",
   "id": "b2db15c8",
   "metadata": {},
   "source": [
    "**It is common to just search an object to browse through all of it's methods and scroll through them to see if there might be one that would be a fit for your use case. I'll quickly show a search for Python strings and pandas DataFrames so you can see what a query of their methods might look like.**\n",
    "\n",
    "<img src='Python_String_Doc.jpg' height=750 width=750>\n",
    "\n",
    "https://www.w3schools.com/python/python_ref_string.asp"
   ]
  },
  {
   "cell_type": "markdown",
   "id": "9d6a037c",
   "metadata": {},
   "source": [
    "<img src='Pandas_DataFrame_doc.jpg' height=750 width=750>\n",
    "\n",
    "https://pandas.pydata.org/docs/reference/api/pandas.DataFrame.html"
   ]
  },
  {
   "cell_type": "code",
   "execution_count": null,
   "id": "ea5640f0",
   "metadata": {},
   "outputs": [],
   "source": []
  }
 ],
 "metadata": {
  "kernelspec": {
   "display_name": "Python 3 (ipykernel)",
   "language": "python",
   "name": "python3"
  },
  "language_info": {
   "codemirror_mode": {
    "name": "ipython",
    "version": 3
   },
   "file_extension": ".py",
   "mimetype": "text/x-python",
   "name": "python",
   "nbconvert_exporter": "python",
   "pygments_lexer": "ipython3",
   "version": "3.11.7"
  }
 },
 "nbformat": 4,
 "nbformat_minor": 5
}
